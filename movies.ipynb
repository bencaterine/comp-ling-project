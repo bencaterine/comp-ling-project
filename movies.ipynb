{
 "cells": [
  {
   "cell_type": "code",
   "execution_count": 190,
   "metadata": {},
   "outputs": [],
   "source": [
    "import numpy as np\n",
    "import pandas as pd\n",
    "import requests\n",
    "\n",
    "from similarity import calculate_sentence_embedding\n",
    "from embeddings import Embeddings"
   ]
  },
  {
   "cell_type": "code",
   "execution_count": 191,
   "metadata": {},
   "outputs": [],
   "source": [
    "def get_wiki_text(movie):\n",
    "    # retrieve a list of all words in a player's wikipedia page\n",
    "    try:\n",
    "        # query wikipedia api\n",
    "        response = requests.get(\n",
    "            'https://en.wikipedia.org/w/api.php',\n",
    "            params={\n",
    "                'action': 'query',\n",
    "                'format': 'json',\n",
    "                'titles': movie,\n",
    "                'prop': 'extracts',\n",
    "                'explaintext': True,\n",
    "            }\n",
    "        ).json()\n",
    "        page = next(iter(response['query']['pages'].values()))\n",
    "        text = page['extract']\n",
    "        \n",
    "        # eliminate punctuation\n",
    "        for p in ['.', ',', '!', '?', '=', '(', ')', '\"', '\"', ':', ';', '\\n']:\n",
    "            text = text.replace(p, ' ')\n",
    "        \n",
    "        # get page vocabulary\n",
    "        # text = bytes(text, 'utf-8').decode('utf-8', 'ignore')\n",
    "        return text\n",
    "    \n",
    "    except:\n",
    "        # return empty list if failed to find player\n",
    "        return None"
   ]
  },
  {
   "cell_type": "code",
   "execution_count": 192,
   "metadata": {},
   "outputs": [],
   "source": [
    "def apply_to_row(row):\n",
    "    result = get_wiki_text(row.Title)\n",
    "    # if there are multiple wiki pages of the same name or the page found is not a film,\n",
    "    # try adding 'film' identifier\n",
    "    if 'may refer to' in result or 'may more specifically refer to' in result or 'film' not in result[:500]:\n",
    "        result = get_wiki_text(row.Title + ' (film)')\n",
    "    if not result:\n",
    "        result =  get_wiki_text(row.Title + ' (' + str(row.Year) + ' American film)')\n",
    "    if not result:\n",
    "        return get_wiki_text(row.Title + ' (' + str(row.Year) + ' film)')\n",
    "    return result"
   ]
  },
  {
   "cell_type": "code",
   "execution_count": 193,
   "metadata": {},
   "outputs": [],
   "source": [
    "movies_df = pd.read_csv('IMDB-Movie-Data.csv')\n",
    "movies_df = movies_df[movies_df.Title != \"Don't Fuck in the Woods\"][:100]"
   ]
  },
  {
   "cell_type": "code",
   "execution_count": 194,
   "metadata": {},
   "outputs": [],
   "source": [
    "movies_df.loc[movies_df.Title == 'Bahubali: The Beginning', 'Title'] = 'Baahubali: The Beginning'\n",
    "movies_df.loc[movies_df.Title == '5/25/1977', 'Title'] = '5-25-77'\n",
    "movies_df = movies_df[movies_df.Title != \"Don't Fuck in the Woods\"]\n",
    "movies_df.loc[movies_df.Title == 'Jason Bourne', 'Title'] = 'Jason Bourne (film)'\n",
    "movies_df.loc[movies_df.Title == 'Paris pieds nus', 'Title'] = 'Lost in Paris'\n",
    "movies_df.loc[movies_df.Title == 'Star Wars: Episode VII - The Force Awakens'] = 'Star Wars: The Force Awakens'\n",
    "movies_df.loc[movies_df.Title == 'Furious Seven'] = 'Furious 7'\n",
    "movies_df.loc[movies_df.Title == 'Kimi no na wa'] = 'Your Name'"
   ]
  },
  {
   "cell_type": "code",
   "execution_count": 195,
   "metadata": {},
   "outputs": [],
   "source": [
    "# get wiki text for movies\n",
    "movies_df['wiki_text'] = movies_df.apply(apply_to_row, axis=1)"
   ]
  },
  {
   "cell_type": "code",
   "execution_count": 196,
   "metadata": {},
   "outputs": [
    {
     "data": {
      "text/plain": [
       "0      Guardians of the Galaxy  retroactively referre...\n",
       "1      Prometheus   prə-MEE-thee-əs  is a 2012 scienc...\n",
       "2      Split is a 2016 American psychological thrille...\n",
       "3      Sing is a 2016 American computer-animated juke...\n",
       "4      Suicide Squad is a 2016 American superhero fil...\n",
       "                             ...                        \n",
       "96     Your Name  Japanese  君の名は。  Hepburn  Kimi no N...\n",
       "97     The Void is a 2016 Canadian Lovecraftian horro...\n",
       "98     Personal Shopper is a 2016 supernatural psycho...\n",
       "99     The Departed is a 2006 American crime thriller...\n",
       "100    Legend is a 2015 biographical crime thriller f...\n",
       "Name: wiki_text, Length: 100, dtype: object"
      ]
     },
     "execution_count": 196,
     "metadata": {},
     "output_type": "execute_result"
    }
   ],
   "source": [
    "movies_df.wiki_text"
   ]
  },
  {
   "cell_type": "code",
   "execution_count": 197,
   "metadata": {},
   "outputs": [],
   "source": [
    "# add column for length of text (in words)\n",
    "movies_df['len_text'] = movies_df.wiki_text.apply(len)"
   ]
  },
  {
   "cell_type": "code",
   "execution_count": 199,
   "metadata": {},
   "outputs": [],
   "source": [
    "embeddings = Embeddings()\n",
    "\n",
    "def get_all_similarities(m1):\n",
    "    # calculates similarities between the given movie m1 and all movies in movies_df\n",
    "    v1 = calculate_sentence_embedding(embeddings, m1, weighted=True)\n",
    "    sims = []\n",
    "    for m2 in movies_df.wiki_text:\n",
    "        v2 = calculate_sentence_embedding(embeddings, m2, weighted=True)\n",
    "        sim = embeddings.cosine_similarity(v1, v2)\n",
    "        sims.append(sim)\n",
    "    return sims"
   ]
  },
  {
   "cell_type": "code",
   "execution_count": 200,
   "metadata": {},
   "outputs": [
    {
     "data": {
      "text/plain": [
       "array([[1.        , 0.99430632, 0.99122393, ..., 0.97278477, 0.98394104,\n",
       "        0.9757157 ],\n",
       "       [0.99430632, 1.        , 0.9879826 , ..., 0.96764464, 0.97219294,\n",
       "        0.9661313 ],\n",
       "       [0.99122393, 0.9879826 , 1.        , ..., 0.9818985 , 0.98375723,\n",
       "        0.9836339 ],\n",
       "       ...,\n",
       "       [0.97278477, 0.96764464, 0.9818985 , ..., 1.        , 0.97914038,\n",
       "        0.97208144],\n",
       "       [0.98394104, 0.97219294, 0.98375723, ..., 0.97914038, 1.        ,\n",
       "        0.98574878],\n",
       "       [0.9757157 , 0.9661313 , 0.9836339 , ..., 0.97208144, 0.98574878,\n",
       "        1.        ]])"
      ]
     },
     "execution_count": 200,
     "metadata": {},
     "output_type": "execute_result"
    }
   ],
   "source": [
    "# put the similarities in a 2D matrix,\n",
    "# where similarity[i, j] is the similarity score between the ith and jth movies in movies_df\n",
    "similarities = np.stack(movies_df.wiki_text.apply(get_all_similarities).values)\n",
    "similarities"
   ]
  },
  {
   "cell_type": "code",
   "execution_count": 203,
   "metadata": {},
   "outputs": [
    {
     "data": {
      "text/plain": [
       "0.9868995484854834"
      ]
     },
     "execution_count": 203,
     "metadata": {},
     "output_type": "execute_result"
    }
   ],
   "source": [
    "def get_similarity(m1, m2):\n",
    "    # get similarity score between the given movies m1 and m2, using the similarites matrix\n",
    "    return similarities[movies_df.index[movies_df.Title == m1][0],\n",
    "                        movies_df.index[movies_df.Title == m2][0]]\n",
    "get_similarity('The Dark Knight', 'Inception')"
   ]
  },
  {
   "cell_type": "code",
   "execution_count": 220,
   "metadata": {},
   "outputs": [],
   "source": [
    "def get_most_similar(movie, n=10):\n",
    "    # return the n most similar movies to the given movie\n",
    "    if movie not in movies_df.Title.values:\n",
    "        return 'Movie not found'\n",
    "    \n",
    "    movie_index = movies_df.index[movies_df.Title == movie][0]\n",
    "    movie_sims = similarities[movie_index]\n",
    "    ind = movie_sims.argsort()[-(n+1):-1][::-1]\n",
    "    return pd.DataFrame({\n",
    "        'movies': movies_df.Title.values[ind],\n",
    "        'similarity': movie_sims[ind]\n",
    "    })"
   ]
  },
  {
   "cell_type": "code",
   "execution_count": 237,
   "metadata": {},
   "outputs": [
    {
     "data": {
      "text/html": [
       "<div>\n",
       "<style scoped>\n",
       "    .dataframe tbody tr th:only-of-type {\n",
       "        vertical-align: middle;\n",
       "    }\n",
       "\n",
       "    .dataframe tbody tr th {\n",
       "        vertical-align: top;\n",
       "    }\n",
       "\n",
       "    .dataframe thead th {\n",
       "        text-align: right;\n",
       "    }\n",
       "</style>\n",
       "<table border=\"1\" class=\"dataframe\">\n",
       "  <thead>\n",
       "    <tr style=\"text-align: right;\">\n",
       "      <th></th>\n",
       "      <th>movies</th>\n",
       "      <th>similarity</th>\n",
       "    </tr>\n",
       "  </thead>\n",
       "  <tbody>\n",
       "    <tr>\n",
       "      <th>0</th>\n",
       "      <td>Miss Sloane</td>\n",
       "      <td>0.991498</td>\n",
       "    </tr>\n",
       "    <tr>\n",
       "      <th>1</th>\n",
       "      <td>Jason Bourne (film)</td>\n",
       "      <td>0.991022</td>\n",
       "    </tr>\n",
       "    <tr>\n",
       "      <th>2</th>\n",
       "      <td>The Founder</td>\n",
       "      <td>0.990856</td>\n",
       "    </tr>\n",
       "    <tr>\n",
       "      <th>3</th>\n",
       "      <td>Live by Night</td>\n",
       "      <td>0.990745</td>\n",
       "    </tr>\n",
       "    <tr>\n",
       "      <th>4</th>\n",
       "      <td>Suicide Squad</td>\n",
       "      <td>0.990593</td>\n",
       "    </tr>\n",
       "    <tr>\n",
       "      <th>5</th>\n",
       "      <td>Fifty Shades of Grey</td>\n",
       "      <td>0.990471</td>\n",
       "    </tr>\n",
       "    <tr>\n",
       "      <th>6</th>\n",
       "      <td>Gold</td>\n",
       "      <td>0.989733</td>\n",
       "    </tr>\n",
       "    <tr>\n",
       "      <th>7</th>\n",
       "      <td>Kingsman: The Secret Service</td>\n",
       "      <td>0.989040</td>\n",
       "    </tr>\n",
       "    <tr>\n",
       "      <th>8</th>\n",
       "      <td>Star Wars: The Force Awakens</td>\n",
       "      <td>0.988689</td>\n",
       "    </tr>\n",
       "    <tr>\n",
       "      <th>9</th>\n",
       "      <td>War Dogs</td>\n",
       "      <td>0.988047</td>\n",
       "    </tr>\n",
       "  </tbody>\n",
       "</table>\n",
       "</div>"
      ],
      "text/plain": [
       "                         movies  similarity\n",
       "0                   Miss Sloane    0.991498\n",
       "1           Jason Bourne (film)    0.991022\n",
       "2                   The Founder    0.990856\n",
       "3                 Live by Night    0.990745\n",
       "4                 Suicide Squad    0.990593\n",
       "5          Fifty Shades of Grey    0.990471\n",
       "6                          Gold    0.989733\n",
       "7  Kingsman: The Secret Service    0.989040\n",
       "8  Star Wars: The Force Awakens    0.988689\n",
       "9                      War Dogs    0.988047"
      ]
     },
     "execution_count": 237,
     "metadata": {},
     "output_type": "execute_result"
    }
   ],
   "source": [
    "get_most_similar('The Hateful Eight')"
   ]
  }
 ],
 "metadata": {
  "kernelspec": {
   "display_name": "base",
   "language": "python",
   "name": "python3"
  },
  "language_info": {
   "codemirror_mode": {
    "name": "ipython",
    "version": 3
   },
   "file_extension": ".py",
   "mimetype": "text/x-python",
   "name": "python",
   "nbconvert_exporter": "python",
   "pygments_lexer": "ipython3",
   "version": "3.8.8"
  },
  "orig_nbformat": 4
 },
 "nbformat": 4,
 "nbformat_minor": 2
}
