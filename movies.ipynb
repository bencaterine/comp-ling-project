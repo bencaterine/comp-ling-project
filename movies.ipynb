{
 "cells": [
  {
   "cell_type": "code",
   "execution_count": 1,
   "metadata": {},
   "outputs": [
    {
     "name": "stderr",
     "output_type": "stream",
     "text": [
      "[nltk_data] Downloading package punkt to\n",
      "[nltk_data]     /Users/bencaterine/nltk_data...\n",
      "[nltk_data]   Package punkt is already up-to-date!\n"
     ]
    }
   ],
   "source": [
    "import numpy as np\n",
    "import pandas as pd\n",
    "import requests\n",
    "\n",
    "from similarity import calculate_sentence_embedding\n",
    "from embeddings import Embeddings"
   ]
  },
  {
   "cell_type": "code",
   "execution_count": 2,
   "metadata": {},
   "outputs": [],
   "source": [
    "def get_wiki_text(movie):\n",
    "    # retrieve a list of all words in a player's wikipedia page\n",
    "    try:\n",
    "        # query wikipedia api\n",
    "        response = requests.get(\n",
    "            'https://en.wikipedia.org/w/api.php',\n",
    "            params={\n",
    "                'action': 'query',\n",
    "                'format': 'json',\n",
    "                'titles': movie,\n",
    "                'prop': 'extracts',\n",
    "                'explaintext': True,\n",
    "            }\n",
    "        ).json()\n",
    "        page = next(iter(response['query']['pages'].values()))\n",
    "        text = page['extract']\n",
    "\n",
    "        # if there are multiple wiki pages of the same name or the page found is not a film,\n",
    "        # try adding 'film' identifier\n",
    "        if 'may refer to:' in text or 'film' not in text:\n",
    "            return get_wiki_text(movie + ' (film)')\n",
    "        \n",
    "        # eliminate punctuation\n",
    "        for p in ['.', ',', '!', '?', '=', '(', ')', '\"', '\"', ':', ';', '\\n']:\n",
    "            text = text.replace(p, ' ')\n",
    "        \n",
    "        # get page vocabulary\n",
    "        # text = bytes(text, 'utf-8').decode('utf-8', 'ignore')\n",
    "        return text\n",
    "    \n",
    "    except:\n",
    "        # return empty list if failed to find player\n",
    "        return []"
   ]
  },
  {
   "cell_type": "code",
   "execution_count": 3,
   "metadata": {},
   "outputs": [],
   "source": [
    "movies = [\n",
    "    'Man of Steel', 'Pitch Perfect', 'Pitch Perfect 2', 'The Dark Knight Rises', 'Iron Man'\n",
    "]"
   ]
  },
  {
   "cell_type": "code",
   "execution_count": 4,
   "metadata": {},
   "outputs": [],
   "source": [
    "# create pandas dataframe with players and their wiki text\n",
    "movies_df = pd.DataFrame({\n",
    "    'movie': movies,\n",
    "})"
   ]
  },
  {
   "cell_type": "code",
   "execution_count": 5,
   "metadata": {},
   "outputs": [],
   "source": [
    "# get wiki text for movies\n",
    "movies_df['wiki_text'] = movies_df.movie.apply(get_wiki_text)\n",
    "# add column for length of text (in words)\n",
    "movies_df['len_text'] = movies_df.wiki_text.apply(len)"
   ]
  },
  {
   "cell_type": "code",
   "execution_count": 6,
   "metadata": {},
   "outputs": [
    {
     "data": {
      "text/html": [
       "<div>\n",
       "<style scoped>\n",
       "    .dataframe tbody tr th:only-of-type {\n",
       "        vertical-align: middle;\n",
       "    }\n",
       "\n",
       "    .dataframe tbody tr th {\n",
       "        vertical-align: top;\n",
       "    }\n",
       "\n",
       "    .dataframe thead th {\n",
       "        text-align: right;\n",
       "    }\n",
       "</style>\n",
       "<table border=\"1\" class=\"dataframe\">\n",
       "  <thead>\n",
       "    <tr style=\"text-align: right;\">\n",
       "      <th></th>\n",
       "      <th>movie</th>\n",
       "      <th>wiki_text</th>\n",
       "      <th>len_text</th>\n",
       "    </tr>\n",
       "  </thead>\n",
       "  <tbody>\n",
       "    <tr>\n",
       "      <th>0</th>\n",
       "      <td>Man of Steel</td>\n",
       "      <td>Man of Steel is a 2013 superhero film based on...</td>\n",
       "      <td>51868</td>\n",
       "    </tr>\n",
       "    <tr>\n",
       "      <th>1</th>\n",
       "      <td>Pitch Perfect</td>\n",
       "      <td>Pitch Perfect is a 2012 American musical comed...</td>\n",
       "      <td>16809</td>\n",
       "    </tr>\n",
       "    <tr>\n",
       "      <th>2</th>\n",
       "      <td>Pitch Perfect 2</td>\n",
       "      <td>Pitch Perfect 2 is a 2015 American musical com...</td>\n",
       "      <td>18841</td>\n",
       "    </tr>\n",
       "    <tr>\n",
       "      <th>3</th>\n",
       "      <td>The Dark Knight Rises</td>\n",
       "      <td>The Dark Knight Rises is a 2012 superhero film...</td>\n",
       "      <td>53345</td>\n",
       "    </tr>\n",
       "    <tr>\n",
       "      <th>4</th>\n",
       "      <td>Iron Man</td>\n",
       "      <td>Iron Man is a superhero appearing in American ...</td>\n",
       "      <td>112856</td>\n",
       "    </tr>\n",
       "  </tbody>\n",
       "</table>\n",
       "</div>"
      ],
      "text/plain": [
       "                   movie                                          wiki_text  \\\n",
       "0           Man of Steel  Man of Steel is a 2013 superhero film based on...   \n",
       "1          Pitch Perfect  Pitch Perfect is a 2012 American musical comed...   \n",
       "2        Pitch Perfect 2  Pitch Perfect 2 is a 2015 American musical com...   \n",
       "3  The Dark Knight Rises  The Dark Knight Rises is a 2012 superhero film...   \n",
       "4               Iron Man  Iron Man is a superhero appearing in American ...   \n",
       "\n",
       "   len_text  \n",
       "0     51868  \n",
       "1     16809  \n",
       "2     18841  \n",
       "3     53345  \n",
       "4    112856  "
      ]
     },
     "execution_count": 6,
     "metadata": {},
     "output_type": "execute_result"
    }
   ],
   "source": [
    "movies_df"
   ]
  },
  {
   "cell_type": "code",
   "execution_count": 7,
   "metadata": {},
   "outputs": [],
   "source": [
    "embeddings = Embeddings()\n",
    "\n",
    "def get_all_similarities(m1):\n",
    "    # calculates similarities between the given movie m1 and all movies in movies_df\n",
    "    v1 = calculate_sentence_embedding(embeddings, m1, weighted=True)\n",
    "    sims = []\n",
    "    for m2 in movies_df.wiki_text:\n",
    "        v2 = calculate_sentence_embedding(embeddings, m2, weighted=True)\n",
    "        sim = embeddings.cosine_similarity(v1, v2)\n",
    "        sims.append(sim)\n",
    "    return sims"
   ]
  },
  {
   "cell_type": "code",
   "execution_count": 8,
   "metadata": {},
   "outputs": [
    {
     "data": {
      "text/plain": [
       "array([[1.        , 0.97944157, 0.98191378, 0.99549933, 0.98214878],\n",
       "       [0.97944157, 1.        , 0.99750574, 0.982988  , 0.95578871],\n",
       "       [0.98191378, 0.99750574, 1.        , 0.98583924, 0.95606759],\n",
       "       [0.99549933, 0.982988  , 0.98583924, 1.        , 0.98052437],\n",
       "       [0.98214878, 0.95578871, 0.95606759, 0.98052437, 1.        ]])"
      ]
     },
     "execution_count": 8,
     "metadata": {},
     "output_type": "execute_result"
    }
   ],
   "source": [
    "# put the similarities in a 2D matrix,\n",
    "# where similarity[i, j] is the similarity score between the ith and jth movies in movies_df\n",
    "similarities = np.stack(movies_df.wiki_text.apply(get_all_similarities).values)\n",
    "similarities"
   ]
  },
  {
   "cell_type": "code",
   "execution_count": 9,
   "metadata": {},
   "outputs": [
    {
     "data": {
      "text/plain": [
       "0.9975057435747687"
      ]
     },
     "execution_count": 9,
     "metadata": {},
     "output_type": "execute_result"
    }
   ],
   "source": [
    "def get_similarity(m1, m2):\n",
    "    # get similarity score between the given movies m1 and m2, using the similarites matrix\n",
    "    return similarities[movies_df.index[movies_df.movie == m1][0],\n",
    "                        movies_df.index[movies_df.movie == m2][0]]\n",
    "get_similarity('Pitch Perfect', 'Pitch Perfect 2')"
   ]
  }
 ],
 "metadata": {
  "kernelspec": {
   "display_name": "base",
   "language": "python",
   "name": "python3"
  },
  "language_info": {
   "codemirror_mode": {
    "name": "ipython",
    "version": 3
   },
   "file_extension": ".py",
   "mimetype": "text/x-python",
   "name": "python",
   "nbconvert_exporter": "python",
   "pygments_lexer": "ipython3",
   "version": "3.8.8"
  },
  "orig_nbformat": 4
 },
 "nbformat": 4,
 "nbformat_minor": 2
}
