{
 "cells": [
  {
   "cell_type": "code",
   "execution_count": 52,
   "metadata": {},
   "outputs": [],
   "source": [
    "import numpy as np\n",
    "import pandas as pd\n",
    "import requests\n",
    "\n",
    "from similarity import calculate_sentence_embedding\n",
    "from embeddings import Embeddings"
   ]
  },
  {
   "cell_type": "code",
   "execution_count": 53,
   "metadata": {},
   "outputs": [],
   "source": [
    "def get_wiki_text(movie):\n",
    "    # retrieve a list of all words in a player's wikipedia page\n",
    "    try:\n",
    "        # query wikipedia api\n",
    "        response = requests.get(\n",
    "            'https://en.wikipedia.org/w/api.php',\n",
    "            params={\n",
    "                'action': 'query',\n",
    "                'format': 'json',\n",
    "                'titles': movie,\n",
    "                'prop': 'extracts',\n",
    "                'explaintext': True,\n",
    "            }\n",
    "        ).json()\n",
    "        page = next(iter(response['query']['pages'].values()))\n",
    "        text = page['extract']\n",
    "        \n",
    "        # eliminate punctuation\n",
    "        for p in ['.', ',', '!', '?', '=', '(', ')', '\"', '\"', ':', ';', '\\n']:\n",
    "            text = text.replace(p, ' ')\n",
    "        \n",
    "        # get page vocabulary\n",
    "        return text\n",
    "    \n",
    "    except:\n",
    "        # return empty list if failed to find player\n",
    "        return None"
   ]
  },
  {
   "cell_type": "code",
   "execution_count": 54,
   "metadata": {},
   "outputs": [],
   "source": [
    "def apply_to_row(row):\n",
    "    try:\n",
    "        result = get_wiki_text(row.Title)\n",
    "        # if there are multiple wiki pages of the same name or the page found is not a film,\n",
    "        # try adding 'film' identifier\n",
    "        if 'may refer to' in result or 'may more specifically refer to' in result or 'film' not in result[:500]:\n",
    "            result = get_wiki_text(row.Title + ' (film)')\n",
    "        if not result:\n",
    "            result =  get_wiki_text(row.Title + ' (' + str(row.Year) + ' American film)')\n",
    "        if not result:\n",
    "            return get_wiki_text(row.Title + ' (' + str(row.Year) + ' film)')\n",
    "        return result\n",
    "    except:\n",
    "        return None"
   ]
  },
  {
   "cell_type": "code",
   "execution_count": 55,
   "metadata": {},
   "outputs": [],
   "source": [
    "movies_df = pd.read_csv('IMDB-Movie-Data.csv')\n",
    "movies_df = movies_df[movies_df.Title != \"Don't Fuck in the Woods\"][:200]"
   ]
  },
  {
   "cell_type": "code",
   "execution_count": 56,
   "metadata": {},
   "outputs": [],
   "source": [
    "movies_df.loc[movies_df.Title == 'Bahubali: The Beginning', 'Title'] = 'Baahubali: The Beginning'\n",
    "movies_df.loc[movies_df.Title == '5/25/1977', 'Title'] = '5-25-77'\n",
    "movies_df = movies_df[movies_df.Title != \"Don't Fuck in the Woods\"]\n",
    "movies_df.loc[movies_df.Title == 'Jason Bourne', 'Title'] = 'Jason Bourne (film)'\n",
    "movies_df.loc[movies_df.Title == 'Paris pieds nus', 'Title'] = 'Lost in Paris'\n",
    "movies_df.loc[movies_df.Title == 'Star Wars: Episode VII - The Force Awakens'] = 'Star Wars: The Force Awakens'\n",
    "movies_df.loc[movies_df.Title == 'Furious Seven'] = 'Furious 7'\n",
    "movies_df.loc[movies_df.Title == 'Kimi no na wa'] = 'Your Name'"
   ]
  },
  {
   "cell_type": "code",
   "execution_count": 57,
   "metadata": {},
   "outputs": [],
   "source": [
    "# get wiki text for movies\n",
    "movies_df['wiki_text'] = movies_df.apply(apply_to_row, axis=1)\n",
    "movies_df.dropna(subset=['wiki_text'], inplace=True)\n",
    "movies_df.reset_index(inplace=True, drop=True)"
   ]
  },
  {
   "cell_type": "code",
   "execution_count": 58,
   "metadata": {},
   "outputs": [],
   "source": [
    "# add column for length of text (in words)\n",
    "movies_df['len_text'] = movies_df.wiki_text.apply(len)"
   ]
  },
  {
   "cell_type": "code",
   "execution_count": 59,
   "metadata": {},
   "outputs": [],
   "source": [
    "movies_df.to_csv('movies_df.csv', index=False)"
   ]
  },
  {
   "cell_type": "code",
   "execution_count": 61,
   "metadata": {},
   "outputs": [],
   "source": [
    "embeddings = Embeddings()\n",
    "\n",
    "def get_all_similarities(m1):\n",
    "    # calculates similarities between the given movie m1 and all movies in movies_df\n",
    "    v1 = calculate_sentence_embedding(embeddings, m1, weighted=True)\n",
    "    sims = []\n",
    "    for m2 in movies_df.wiki_text:\n",
    "        v2 = calculate_sentence_embedding(embeddings, m2, weighted=True)\n",
    "        sim = embeddings.cosine_similarity(v1, v2)\n",
    "        sims.append(sim)\n",
    "    return sims"
   ]
  },
  {
   "cell_type": "code",
   "execution_count": 62,
   "metadata": {},
   "outputs": [
    {
     "data": {
      "text/plain": [
       "array([[1.        , 0.99430656, 0.99122393, ..., 0.98470331, 0.97895589,\n",
       "        0.99101794],\n",
       "       [0.99430656, 1.        , 0.98798524, ..., 0.98777406, 0.97287752,\n",
       "        0.99168435],\n",
       "       [0.99122393, 0.98798524, 1.        , ..., 0.98511845, 0.98860963,\n",
       "        0.98682302],\n",
       "       ...,\n",
       "       [0.98470331, 0.98777406, 0.98511845, ..., 1.        , 0.97268625,\n",
       "        0.98078777],\n",
       "       [0.97895589, 0.97287752, 0.98860963, ..., 0.97268625, 1.        ,\n",
       "        0.97778029],\n",
       "       [0.99101794, 0.99168435, 0.98682302, ..., 0.98078777, 0.97778029,\n",
       "        1.        ]])"
      ]
     },
     "execution_count": 62,
     "metadata": {},
     "output_type": "execute_result"
    }
   ],
   "source": [
    "# put the similarities in a 2D matrix,\n",
    "# where similarity[i, j] is the similarity score between the ith and jth movies in movies_df\n",
    "similarities = np.stack(movies_df.wiki_text.apply(get_all_similarities).values)\n",
    "similarities"
   ]
  },
  {
   "cell_type": "code",
   "execution_count": 63,
   "metadata": {},
   "outputs": [],
   "source": [
    "np.savetxt('similarities.csv', similarities, delimiter=',')"
   ]
  },
  {
   "cell_type": "code",
   "execution_count": 64,
   "metadata": {},
   "outputs": [
    {
     "data": {
      "text/plain": [
       "(190, 190)"
      ]
     },
     "execution_count": 64,
     "metadata": {},
     "output_type": "execute_result"
    }
   ],
   "source": [
    "similarities.shape"
   ]
  },
  {
   "cell_type": "code",
   "execution_count": 65,
   "metadata": {},
   "outputs": [
    {
     "data": {
      "text/plain": [
       "0.9928822029975909"
      ]
     },
     "execution_count": 65,
     "metadata": {},
     "output_type": "execute_result"
    }
   ],
   "source": [
    "def get_similarity(m1, m2):\n",
    "    # get similarity score between the given movies m1 and m2, using the similarites matrix\n",
    "    return similarities[movies_df.index[movies_df.Title == m1][0],\n",
    "                        movies_df.index[movies_df.Title == m2][0]]\n",
    "get_similarity('The Dark Knight', 'Inception')"
   ]
  },
  {
   "cell_type": "code",
   "execution_count": 66,
   "metadata": {},
   "outputs": [],
   "source": [
    "def get_most_similar(movie, n=10):\n",
    "    # return the n most similar movies to the given movie\n",
    "    if movie not in movies_df.Title.values:\n",
    "        return 'Movie not found'\n",
    "    \n",
    "    movie_index = movies_df.index[movies_df.Title == movie][0]\n",
    "    movie_sims = similarities[movie_index]\n",
    "    ind = movie_sims.argsort()[-(n+1):-1][::-1]\n",
    "    return pd.DataFrame({\n",
    "        'movies': movies_df.Title.values[ind],\n",
    "        'similarity': movie_sims[ind]\n",
    "    })"
   ]
  },
  {
   "cell_type": "code",
   "execution_count": null,
   "metadata": {},
   "outputs": [
    {
     "data": {
      "text/html": [
       "<div>\n",
       "<style scoped>\n",
       "    .dataframe tbody tr th:only-of-type {\n",
       "        vertical-align: middle;\n",
       "    }\n",
       "\n",
       "    .dataframe tbody tr th {\n",
       "        vertical-align: top;\n",
       "    }\n",
       "\n",
       "    .dataframe thead th {\n",
       "        text-align: right;\n",
       "    }\n",
       "</style>\n",
       "<table border=\"1\" class=\"dataframe\">\n",
       "  <thead>\n",
       "    <tr style=\"text-align: right;\">\n",
       "      <th></th>\n",
       "      <th>movies</th>\n",
       "      <th>similarity</th>\n",
       "    </tr>\n",
       "  </thead>\n",
       "  <tbody>\n",
       "    <tr>\n",
       "      <th>0</th>\n",
       "      <td>Captain America: Civil War</td>\n",
       "      <td>0.997619</td>\n",
       "    </tr>\n",
       "    <tr>\n",
       "      <th>1</th>\n",
       "      <td>Deadpool</td>\n",
       "      <td>0.997459</td>\n",
       "    </tr>\n",
       "    <tr>\n",
       "      <th>2</th>\n",
       "      <td>Tomorrowland</td>\n",
       "      <td>0.997294</td>\n",
       "    </tr>\n",
       "    <tr>\n",
       "      <th>3</th>\n",
       "      <td>The Avengers</td>\n",
       "      <td>0.997281</td>\n",
       "    </tr>\n",
       "    <tr>\n",
       "      <th>4</th>\n",
       "      <td>Guardians of the Galaxy</td>\n",
       "      <td>0.997123</td>\n",
       "    </tr>\n",
       "    <tr>\n",
       "      <th>5</th>\n",
       "      <td>Watchmen</td>\n",
       "      <td>0.996967</td>\n",
       "    </tr>\n",
       "    <tr>\n",
       "      <th>6</th>\n",
       "      <td>Captain America: The First Avenger</td>\n",
       "      <td>0.996645</td>\n",
       "    </tr>\n",
       "    <tr>\n",
       "      <th>7</th>\n",
       "      <td>Avengers: Age of Ultron</td>\n",
       "      <td>0.996416</td>\n",
       "    </tr>\n",
       "    <tr>\n",
       "      <th>8</th>\n",
       "      <td>The Dark Knight Rises</td>\n",
       "      <td>0.995864</td>\n",
       "    </tr>\n",
       "    <tr>\n",
       "      <th>9</th>\n",
       "      <td>Divergent</td>\n",
       "      <td>0.995606</td>\n",
       "    </tr>\n",
       "  </tbody>\n",
       "</table>\n",
       "</div>"
      ],
      "text/plain": [
       "                               movies  similarity\n",
       "0          Captain America: Civil War    0.997619\n",
       "1                            Deadpool    0.997459\n",
       "2                        Tomorrowland    0.997294\n",
       "3                        The Avengers    0.997281\n",
       "4             Guardians of the Galaxy    0.997123\n",
       "5                            Watchmen    0.996967\n",
       "6  Captain America: The First Avenger    0.996645\n",
       "7             Avengers: Age of Ultron    0.996416\n",
       "8               The Dark Knight Rises    0.995864\n",
       "9                           Divergent    0.995606"
      ]
     },
     "execution_count": 273,
     "metadata": {},
     "output_type": "execute_result"
    }
   ],
   "source": [
    "get_most_similar('Ant-Man')"
   ]
  }
 ],
 "metadata": {
  "kernelspec": {
   "display_name": "base",
   "language": "python",
   "name": "python3"
  },
  "language_info": {
   "codemirror_mode": {
    "name": "ipython",
    "version": 3
   },
   "file_extension": ".py",
   "mimetype": "text/x-python",
   "name": "python",
   "nbconvert_exporter": "python",
   "pygments_lexer": "ipython3",
   "version": "3.8.8"
  },
  "orig_nbformat": 4
 },
 "nbformat": 4,
 "nbformat_minor": 2
}
